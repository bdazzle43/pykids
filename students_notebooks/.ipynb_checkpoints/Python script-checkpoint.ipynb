{
 "cells": [
  {
   "cell_type": "markdown",
   "metadata": {},
   "source": [
    "# Create python scripts \n",
    "\n",
    "## ends with .py \n",
    "\n",
    "# With Jupyter notebooks\n",
    "\n",
    "## To write/save\n",
    "%%writefile myfile.py\n",
    "\n",
    "write/save cell contents into myfile.py (use -a to append). Another alias: %%file myfile.py\n",
    "\n",
    "## To run\n",
    "%run myfile.py\n",
    "\n",
    "run myfile.py and output results in the current cell\n",
    "\n"
   ]
  },
  {
   "cell_type": "code",
   "execution_count": 26,
   "metadata": {},
   "outputs": [
    {
     "name": "stdout",
     "output_type": "stream",
     "text": [
      "Overwriting hello.py\n"
     ]
    }
   ],
   "source": [
    "%%writefile hello.py\n",
    "def say_hello():\n",
    "    print(\"Hello World!\")\n",
    "    \n",
    "if __name__ == \"__main__\":\n",
    "    say_hello()"
   ]
  },
  {
   "cell_type": "code",
   "execution_count": 27,
   "metadata": {},
   "outputs": [
    {
     "name": "stdout",
     "output_type": "stream",
     "text": [
      "Hello World!\n"
     ]
    }
   ],
   "source": [
    "%run hello.py"
   ]
  },
  {
   "cell_type": "markdown",
   "metadata": {},
   "source": [
    "## What is  ' __name__ == \"__main__\" '?\n",
    "Any methods in python with __method__ are magic methods - do not worry much about them yet. They help the program run"
   ]
  },
  {
   "cell_type": "markdown",
   "metadata": {},
   "source": [
    "## To load/import\n",
    "%load myfile.py\n",
    "\n",
    "load \"import\" myfile.py into the current cell"
   ]
  },
  {
   "cell_type": "code",
   "execution_count": 36,
   "metadata": {},
   "outputs": [
    {
     "name": "stdout",
     "output_type": "stream",
     "text": [
      "Hello World!\n"
     ]
    }
   ],
   "source": [
    "# %load hello.py\n",
    "def say_hello():\n",
    "    print(\"Hello World!\")\n",
    "    \n",
    "if __name__ == \"__main__\":\n",
    "    say_hello()"
   ]
  },
  {
   "cell_type": "code",
   "execution_count": null,
   "metadata": {},
   "outputs": [],
   "source": []
  }
 ],
 "metadata": {
  "kernelspec": {
   "display_name": "Python 3",
   "language": "python",
   "name": "python3"
  },
  "language_info": {
   "codemirror_mode": {
    "name": "ipython",
    "version": 3
   },
   "file_extension": ".py",
   "mimetype": "text/x-python",
   "name": "python",
   "nbconvert_exporter": "python",
   "pygments_lexer": "ipython3",
   "version": "3.5.4"
  }
 },
 "nbformat": 4,
 "nbformat_minor": 2
}
