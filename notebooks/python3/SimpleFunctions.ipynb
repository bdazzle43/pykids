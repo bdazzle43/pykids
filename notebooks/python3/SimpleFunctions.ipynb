{
 "cells": [
  {
   "cell_type": "markdown",
   "metadata": {},
   "source": [
    "# Functions \n",
    "\n",
    "Functions are a way of keeping a set of instructions together that help creating an output from an input. Functions can be reused. They may return a value or not.  \n",
    "\n",
    "Functions are very helpful building blocks in Python. Here is the syntax:\n",
    "\n",
    "def functionname():\n",
    "    statement "
   ]
  },
  {
   "cell_type": "code",
   "execution_count": 1,
   "metadata": {},
   "outputs": [
    {
     "name": "stdout",
     "output_type": "stream",
     "text": [
      "100\n"
     ]
    }
   ],
   "source": [
    "def square_a_number(number):\n",
    "    print(number**2)\n",
    "    \n",
    "answer = square_a_number(10)"
   ]
  },
  {
   "cell_type": "code",
   "execution_count": 2,
   "metadata": {},
   "outputs": [
    {
     "name": "stdout",
     "output_type": "stream",
     "text": [
      "36\n"
     ]
    }
   ],
   "source": [
    "answer2 = square_a_number(6)"
   ]
  },
  {
   "cell_type": "markdown",
   "metadata": {},
   "source": [
    "## Functions that return a value "
   ]
  },
  {
   "cell_type": "code",
   "execution_count": 3,
   "metadata": {},
   "outputs": [
    {
     "name": "stdout",
     "output_type": "stream",
     "text": [
      "MeenalPant\n"
     ]
    }
   ],
   "source": [
    "def print_full_name(lastname, firstname ):\n",
    "    fullname = firstname + lastname \n",
    "    return fullname \n",
    "\n",
    "first_full_name = print_full_name(\"Pant\", \"Meenal\")\n",
    "print(first_full_name)\n"
   ]
  },
  {
   "cell_type": "code",
   "execution_count": 4,
   "metadata": {},
   "outputs": [
    {
     "name": "stdout",
     "output_type": "stream",
     "text": [
      "AlbertEinstein\n"
     ]
    }
   ],
   "source": [
    "second_full_name = print_full_name(\"Einstein\", \"Albert\")\n",
    "print(second_full_name)"
   ]
  },
  {
   "cell_type": "markdown",
   "metadata": {},
   "source": [
    "### Note: All functions return something. Our first example returns a None.  \n",
    "Fun fact: https://www.codecademy.com/en/forum_questions/518ffbfeb3f05c44fe001395"
   ]
  },
  {
   "cell_type": "markdown",
   "metadata": {},
   "source": [
    "## Functions within Functions \n",
    "In Python you can call functions within functions. "
   ]
  },
  {
   "cell_type": "code",
   "execution_count": 7,
   "metadata": {},
   "outputs": [
    {
     "name": "stdout",
     "output_type": "stream",
     "text": [
      "5\n",
      "10\n",
      "15\n",
      "20\n",
      "25\n",
      "30\n",
      "35\n",
      "40\n",
      "45\n",
      "50\n"
     ]
    }
   ],
   "source": [
    "def multiply_numbers(number1, number2):\n",
    "    product = number1 * number2\n",
    "    return product \n",
    "\n",
    "def create_a_table(number):\n",
    "    for i in range(1,11):\n",
    "        answer = multiply_numbers(number, i)\n",
    "        print(answer)\n",
    "        \n",
    "create_a_table(5)"
   ]
  },
  {
   "cell_type": "code",
   "execution_count": null,
   "metadata": {},
   "outputs": [],
   "source": []
  }
 ],
 "metadata": {
  "kernelspec": {
   "display_name": "Python 3",
   "language": "python",
   "name": "python3"
  },
  "language_info": {
   "codemirror_mode": {
    "name": "ipython",
    "version": 3
   },
   "file_extension": ".py",
   "mimetype": "text/x-python",
   "name": "python",
   "nbconvert_exporter": "python",
   "pygments_lexer": "ipython3",
   "version": "3.6.2"
  }
 },
 "nbformat": 4,
 "nbformat_minor": 2
}
