{
 "cells": [
  {
   "cell_type": "markdown",
   "metadata": {},
   "source": [
    "# Pykids Curriculum - [Read more here](http://pykids.readthedocs.io/en/latest/)\n",
    "(Part2)\n",
    "\n",
    " "
   ]
  },
  {
   "cell_type": "markdown",
   "metadata": {},
   "source": [
    " - [Class1 - Python Recipes](#recipes)\n",
    " - [Class2 - Simple Functions](#functs)"
   ]
  },
  {
   "cell_type": "markdown",
   "metadata": {
    "collapsed": true
   },
   "source": [
    "## Recipes <a id='recipes'></a>\n",
    "- [Madlibs](http://nbviewer.jupyter.org/github/mpant/pykids/blob/master/notebooks/python3/advanced/madlibs.ipynb)\n",
    "- [Trivia/madlibs from student](http://nbviewer.jupyter.org/github/mpant/pykids/blob/master/students_notebooks/AP_recipes.ipynb)"
   ]
  },
  {
   "cell_type": "markdown",
   "metadata": {
    "collapsed": true
   },
   "source": [
    "### Retrospective \n",
    "#### Curious questions after the first class!\n",
    "- TBD\n",
    "\n",
    "#### In class notebooks\n",
    "- TBD\n",
    "\n",
    "#### Jargon that we learnt/are learning\n",
    "- TBD\n",
    "\n",
    "\n"
   ]
  },
  {
   "cell_type": "markdown",
   "metadata": {},
   "source": [
    "## Class 2 - Simple Functions <a id='functions'></a>\n",
    "- [Functions](http://nbviewer.jupyter.org/github/mpant/pykids/blob/master/notebooks/python3/advanced/SimpleFunctions.ipynb)\n",
    "\n",
    "### Retrospective\n",
    "#### In class notebooks\n",
    "- TBD\n"
   ]
  }
 ],
 "metadata": {
  "celltoolbar": "Raw Cell Format",
  "kernelspec": {
   "display_name": "Python 3",
   "language": "python",
   "name": "python3"
  },
  "language_info": {
   "codemirror_mode": {
    "name": "ipython",
    "version": 3
   },
   "file_extension": ".py",
   "mimetype": "text/x-python",
   "name": "python",
   "nbconvert_exporter": "python",
   "pygments_lexer": "ipython3",
   "version": "3.6.2"
  }
 },
 "nbformat": 4,
 "nbformat_minor": 1
}
