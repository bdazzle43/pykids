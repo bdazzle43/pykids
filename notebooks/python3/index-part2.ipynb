{
 "cells": [
  {
   "cell_type": "markdown",
   "metadata": {},
   "source": [
    "# Pykids Advanced Curriculum - [Read more here](http://pykids.readthedocs.io/en/latest/)\n",
    "(Python for 5th grade and above)\n",
    "\n",
    " "
   ]
  },
  {
   "cell_type": "markdown",
   "metadata": {},
   "source": [
    " - [Class1 - Python Recipes](#recipes)\n",
    " - [Class2 - Simple Functions](#functs)"
   ]
  },
  {
   "cell_type": "markdown",
   "metadata": {
    "collapsed": true
   },
   "source": [
    "## Recipes <a id='recipes'></a>\n",
    "- [Madlibs](http://nbviewer.jupyter.org/github/mpant/pykids/blob/master/notebooks/python3/advanced/madlibs.ipynb)\n",
    "- [Trivia from student](http://nbviewer.jupyter.org/github/mpant/pykids/blob/master/students_notebooks/AP_recipes.ipynb)"
   ]
  },
  {
   "cell_type": "markdown",
   "metadata": {
    "collapsed": true
   },
   "source": [
    "### Retrospective \n",
    "#### Curious questions after class!\n",
    "- How can we make amny madliibs without havuing to type out lines each time? I must say kids are getting the hang of it. They are asking to automate repetitive tasks!  \n",
    "\n",
    "#### Jargon that we learnt/are learning\n",
    "- Debug\n",
    "- Logfiles\n",
    "- Memory\n",
    "\n",
    "\n"
   ]
  },
  {
   "cell_type": "markdown",
   "metadata": {},
   "source": [
    "## Class 2 - Simple Functions <a id='functs'></a>\n",
    "- [Functions](http://nbviewer.jupyter.org/github/mpant/pykids/blob/master/notebooks/python3/advanced/SimpleFunctions.ipynb)\n",
    "\n",
    "### Retrospective\n",
    "Children are able to apply the madlibs exercise and thinking about how to do it with functions\n",
    "\n"
   ]
  },
  {
   "cell_type": "markdown",
   "metadata": {},
   "source": [
    "## Class 3 - My python script <a id='script'></a>\n",
    "- [Scripts](http://nbviewer.jupyter.org/github/mpant/pykids/blob/master/notebooks/python3/advanced/pyscript.ipynb)\n",
    "\n",
    "### Retrospective\n",
    "Children are so excited to create a standalone sciprt. Whoa we can run it via jupyter but also on this weird thing called \"commandline\"\n"
   ]
  }
 ],
 "metadata": {
  "celltoolbar": "Raw Cell Format",
  "kernelspec": {
   "display_name": "Python 3",
   "language": "python",
   "name": "python3"
  },
  "language_info": {
   "codemirror_mode": {
    "name": "ipython",
    "version": 3
   },
   "file_extension": ".py",
   "mimetype": "text/x-python",
   "name": "python",
   "nbconvert_exporter": "python",
   "pygments_lexer": "ipython3",
   "version": "3.5.4"
  }
 },
 "nbformat": 4,
 "nbformat_minor": 1
}
