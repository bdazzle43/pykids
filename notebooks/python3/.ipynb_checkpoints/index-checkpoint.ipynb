{
 "cells": [
  {
   "cell_type": "markdown",
   "metadata": {},
   "source": [
    "# Pykids Beginners Curriculum - [Read more here](http://pykids.readthedocs.io/en/latest/)\n",
    "(Python for 5th grade and above)\n",
    "\n",
    " "
   ]
  },
  {
   "cell_type": "markdown",
   "metadata": {},
   "source": [
    " - [Class1 - Introduction and numbers](#intro)\n",
    " - [Class2 - What's in a name](#name)\n",
    " - [Class3 - Looping through](#loop)\n",
    " - [Class4 - Art with Python](#art)\n",
    " - [Class5 - Blocks and grids](#grids)"
   ]
  },
  {
   "cell_type": "markdown",
   "metadata": {
    "collapsed": true
   },
   "source": [
    "## Introduction <a id='intro'></a>\n",
    "- [What is programming?](https://www.google.com/url?sa=t&rct=j&q=&esrc=s&source=web&cd=2&ved=0ahUKEwjrm9Tcq87PAhVK_mMKHZ9tCGkQtwIIOTAB&url=https%3A%2F%2Fwww.khanacademy.org%2Fcomputing%2Fcomputer-programming%2Fprogramming%2Fintro-to-programming%2Fv%2Fprogramming-intro&usg=AFQjCNHRLmR0tzeJmy7bGKy7m6zw2zsv4Q&sig2=mwdP0kHDUpfIT3R9oB34oQ)\n",
    "- [Hello world!](http://nbviewer.ipython.org/urls/raw.github.com/mpant/pykids/master/notebooks/python3/beginners/hello_world.ipynb)\n",
    "- [Simple calculator](http://nbviewer.ipython.org/urls/raw.github.com/mpant/pykids/master/notebooks/python3/beginners/calculator.ipynb)   "
   ]
  },
  {
   "cell_type": "markdown",
   "metadata": {
    "collapsed": true
   },
   "source": [
    "### Retrospective \n",
    "#### Curious questions after the first class!\n",
    "- Thanks Khan academy for the \"programming video\" - that is nicely explained!\n",
    "- How do computers understand Python ? How do they know the difference between C++ and Python languages?\n",
    "- Who created all these languages - why are there so many?\n",
    "- Using print() , prints things out but when I do not use print() just say 2+5 , I still get the answer - why? I did not ask the computer to print() - This led us into a discussion on \"return statement\". Can you guess the next question - what is the difference between a statement and a function (command) like print() :)?   \n",
    "- help() is a hit - Children wanted to see what other \"things\" they can look up help on ? This led us to browsing through Python 3 docs!\n",
    "\n",
    "#### In class notebooks\n",
    "- [hello_world_in_class](http://nbviewer.ipython.org/urls/raw.github.com/mpant/pykids/master/notebooks/python3/beginners/hello_world_in_class.ipynb)\n",
    "- [calculator_in_class](http://nbviewer.ipython.org/urls/raw.github.com/mpant/pykids/master/notebooks/python3/beginners/calculator_in_class.ipynb)\n",
    "   \n",
    "#### Jargon that we learnt/are learning\n",
    "- syntax\n",
    "- interpreter\n",
    "- compiler\n",
    "- command\n",
    "\n",
    "\n"
   ]
  },
  {
   "cell_type": "markdown",
   "metadata": {},
   "source": [
    "## Class 2 - What is in a name <a id='name'></a>\n",
    "- [Name Tag](http://nbviewer.ipython.org/urls/raw.github.com/mpant/pykids/master/notebooks/python3/beginners/nametag.ipynb)\n",
    "\n",
    "### Retrospective\n",
    "#### In class notebooks\n",
    "- [kids_pics_lesson2](http://nbviewer.ipython.org/urls/raw.github.com/mpant/pykids/master/notebooks/python3/beginners/kids_pics_lesson2.ipynb)\n"
   ]
  },
  {
   "cell_type": "markdown",
   "metadata": {},
   "source": [
    "## Class 3 - Looping through <a id='loop'></a>\n",
    " - [Oops loops](http://nbviewer.jupyter.org/github/mpant/pykids/blob/master/notebooks/python3/beginners/loops_and_conditionals.ipynb)\n",
    " \n",
    "### Retrospective\n",
    "- [exercise_calculator_in_class](http://nbviewer.ipython.org/urls/raw.github.com/mpant/pykids/master/notebooks/python3/beginners/exercise_calculator_in_class.ipynb) \n",
    " Writing times table led to the introduction of the for loop !! Key concepts such as repetition and iteration were introduced. Children were able to relate and were able to genearte tables easily! \n",
    " \n",
    "#### Jargon that we learnt/are learning\n",
    "- repetitive\n",
    "- iteration "
   ]
  },
  {
   "cell_type": "markdown",
   "metadata": {},
   "source": [
    "## Class 4 - Art with Python <a id='art'></a>\n",
    "- [Fun with text](http://nbviewer.ipython.org/urls/raw.github.com/mpant/pykids/master/notebooks/python3/beginners/funtext.ipynb)\n",
    "\n",
    "### Retrospective\n",
    "- Star Wars fonts are the favorites"
   ]
  },
  {
   "cell_type": "markdown",
   "metadata": {},
   "source": [
    "## Class 4 - Blocks and Grids <a id='grids'></a>\n",
    "- [Colorful Grids](http://nbviewer.ipython.org/urls/raw.github.com/mpant/pykids/master/notebooks/beginners/python3/grids.ipynb)\n",
    "\n",
    "### Retrospective\n",
    "- [Kids made a chessboard!!](http://nbviewer.ipython.org/urls/raw.github.com/mpant/pykids/master/notebooks/beginners/python3/chessboard.ipynb)"
   ]
  }
 ],
 "metadata": {
  "celltoolbar": "Raw Cell Format",
  "kernelspec": {
   "display_name": "Python 3",
   "language": "python",
   "name": "python3"
  },
  "language_info": {
   "codemirror_mode": {
    "name": "ipython",
    "version": 3
   },
   "file_extension": ".py",
   "mimetype": "text/x-python",
   "name": "python",
   "nbconvert_exporter": "python",
   "pygments_lexer": "ipython3",
   "version": "3.5.1"
  }
 },
 "nbformat": 4,
 "nbformat_minor": 1
}
