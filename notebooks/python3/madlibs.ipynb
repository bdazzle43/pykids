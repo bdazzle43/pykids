{
 "cells": [
  {
   "cell_type": "code",
   "execution_count": 13,
   "metadata": {},
   "outputs": [
    {
     "name": "stdout",
     "output_type": "stream",
     "text": [
      "Enter a color e.g. red, blue etc: red\n",
      "Enter an action e.g. ran, bounced etc: ran\n",
      "Enter an area e.g. rug, tub etc: tub\n",
      "Enter a drink e.g. coffee, tea etc: tea\n",
      "Enter an action e.g. fell, grew etc: fall\n",
      "Enter a result e.g. broke, fixed etc: fixed\n"
     ]
    }
   ],
   "source": [
    "color = input(\"Enter a color e.g. red, blue etc: \")\n",
    "action = input(\"Enter an action e.g. ran, bounced etc: \")\n",
    "area = input(\"Enter an area e.g. rug, tub etc: \")\n",
    "drink = input(\"Enter a drink e.g. coffee, tea etc: \")\n",
    "actionverb = input(\"Enter an action e.g. fell, grew etc: \")\n",
    "result = input(\"Enter a result e.g. broke, fixed etc: \")"
   ]
  },
  {
   "cell_type": "code",
   "execution_count": 17,
   "metadata": {},
   "outputs": [],
   "source": [
    "mystory = \"The %s ball %s action on the %s where the %s mug was kept. The mug %s down and %s.\" %(color, action, area, drink, actionverb, result ) "
   ]
  },
  {
   "cell_type": "code",
   "execution_count": 18,
   "metadata": {},
   "outputs": [
    {
     "name": "stdout",
     "output_type": "stream",
     "text": [
      "The red ball ran action on the tub where the tea mug was kept. The mug fall down and fixed.\n"
     ]
    }
   ],
   "source": [
    "print(mystory)"
   ]
  }
 ],
 "metadata": {
  "kernelspec": {
   "display_name": "Python 3",
   "language": "python",
   "name": "python3"
  },
  "language_info": {
   "codemirror_mode": {
    "name": "ipython",
    "version": 3
   },
   "file_extension": ".py",
   "mimetype": "text/x-python",
   "name": "python",
   "nbconvert_exporter": "python",
   "pygments_lexer": "ipython3",
   "version": "3.6.1"
  }
 },
 "nbformat": 4,
 "nbformat_minor": 2
}
