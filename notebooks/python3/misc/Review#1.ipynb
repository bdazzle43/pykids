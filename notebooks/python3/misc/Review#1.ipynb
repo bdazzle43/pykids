{
 "cells": [
  {
   "cell_type": "markdown",
   "metadata": {},
   "source": [
    "#### Review Exercise "
   ]
  },
  {
   "cell_type": "markdown",
   "metadata": {},
   "source": [
    "Q1 : Create a loop that prints \"Merry Christmas\" 10 times?"
   ]
  },
  {
   "cell_type": "markdown",
   "metadata": {},
   "source": [
    "Q2: Create a loop that prints \"Happy Holidays\" as long as the loop index is < 20 . Loop index should increase with every iteration."
   ]
  },
  {
   "cell_type": "markdown",
   "metadata": {},
   "source": [
    "Q3: Write a story on your thanksgiving break - shouls be 10 lines. Each line should be on a new line."
   ]
  },
  {
   "cell_type": "markdown",
   "metadata": {},
   "source": [
    "Q4: Solve a math problem: A car has 12 gallons of petrol. \n",
    "    * When the petrol goes down to 9 gallon - the dashnpard prints a message \" Enough Gas \"\n",
    "    * When the petrol goes down to 6 gallon - the dashnpard prints a message \" Will need to gas fill soon \"\n",
    "    * When the petrol goes down to 3 gallon - the dashnpard prints a message \" Warning ! Fill gas when you see the next gas station\"\n",
    "    * When the petrol goes down to 1 gallon - the dashnpard prints a message \" Go to a gas station now!!\""
   ]
  },
  {
   "cell_type": "code",
   "execution_count": null,
   "metadata": {
    "collapsed": true
   },
   "outputs": [],
   "source": []
  }
 ],
 "metadata": {
  "kernelspec": {
   "display_name": "Python 3",
   "language": "python",
   "name": "python3"
  },
  "language_info": {
   "codemirror_mode": {
    "name": "ipython",
    "version": 3
   },
   "file_extension": ".py",
   "mimetype": "text/x-python",
   "name": "python",
   "nbconvert_exporter": "python",
   "pygments_lexer": "ipython3",
   "version": "3.5.0"
  }
 },
 "nbformat": 4,
 "nbformat_minor": 0
}
