{
 "cells": [
  {
   "cell_type": "markdown",
   "metadata": {},
   "source": [
    "DataTypes contd.. \n",
    "=================\n",
    "Lists\n",
    "Tuples\n",
    "Sets\n",
    "Dictionaries"
   ]
  },
  {
   "cell_type": "code",
   "execution_count": null,
   "metadata": {
    "collapsed": false
   },
   "outputs": [],
   "source": [
    "help(list)"
   ]
  },
  {
   "cell_type": "code",
   "execution_count": null,
   "metadata": {
    "collapsed": false,
    "scrolled": true
   },
   "outputs": [],
   "source": [
    "a = [1,2,3,4]\n",
    "name = ['Emma', 'Jane', 'Elizabeth']\n",
    "amixedlist = [1,2,'Apple', 4.5, 'My dog is brown']\n",
    "\n",
    "\n",
    "#indexes \n",
    "\n",
    "print(a[1])\n",
    "print(name[0])\n",
    "print(amixedlist[3])\n",
    "\n",
    "#type \n",
    "print(type(a))\n",
    "\n",
    "#Concatation \n",
    "\n",
    "a[0] + amixedlist[0]\n",
    "\n",
    "#Slicing and Dicing \n",
    "\n",
    "print(a[2:])\n",
    "print(a[: -1])\n",
    "\n",
    "#List opertaions \n",
    "name[0] + \" Watson\"\n",
    "name.append(\"Mary\")\n",
    "print (name)\n",
    "\n",
    "#type \n",
    "type(amixedlist)"
   ]
  },
  {
   "cell_type": "code",
   "execution_count": null,
   "metadata": {
    "collapsed": false
   },
   "outputs": [],
   "source": [
    "#dictionary - Let's checkout Help\n",
    "\n",
    "grocery_list={\"Fruit\":\"Apple\", \"Vegetable\":\"Tomato\", \"Beverage\":\"Milk\", \"Meat\":\"Chicken\"}\n",
    "print(grocery_list[\"Fruit\"])\n",
    "print(grocery_list[\"Vegetable\"])\n",
    "\n",
    "# dictionary operations -  Let's checkout Help\n",
    "grocery_list[\"Meat\"]=\"Fish\"\n",
    "print(grocery_list)\n",
    "type(grocery_list)"
   ]
  },
  {
   "cell_type": "code",
   "execution_count": null,
   "metadata": {
    "collapsed": false,
    "scrolled": true
   },
   "outputs": [],
   "source": [
    "#tuples -  Let's checkout Help\n",
    "\n",
    "atuple=(\"Mary\", \"had\", \"a\", \"little\", \"lamb\")\n",
    "\n",
    "print(atuple[3])\n",
    "\n",
    "#tuples -  Woah !!  Let's checkout Help\n",
    "\n",
    "atuple.append(\"and it was white\")\n"
   ]
  },
  {
   "cell_type": "code",
   "execution_count": null,
   "metadata": {
    "collapsed": true
   },
   "outputs": [],
   "source": [
    "# Exercise 1 : Create a \"list\" to hold names of your 10 friends - Print out the name of your best friend using indexes"
   ]
  },
  {
   "cell_type": "code",
   "execution_count": null,
   "metadata": {
    "collapsed": true
   },
   "outputs": [],
   "source": [
    "# Exercise 1 : Create a \"dictionary\" to hold your name, address, birthdate and favourite hobby.\n",
    "Can you change your favourite hobby with the 2nd best thing you like to do?"
   ]
  }
 ],
 "metadata": {
  "kernelspec": {
   "display_name": "Python 3",
   "language": "python",
   "name": "python3"
  },
  "language_info": {
   "codemirror_mode": {
    "name": "ipython",
    "version": 3
   },
   "file_extension": ".py",
   "mimetype": "text/x-python",
   "name": "python",
   "nbconvert_exporter": "python",
   "pygments_lexer": "ipython3",
   "version": "3.5.0"
  }
 },
 "nbformat": 4,
 "nbformat_minor": 0
}
