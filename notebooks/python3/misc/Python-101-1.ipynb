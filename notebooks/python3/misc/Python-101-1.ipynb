{
 "cells": [
  {
   "cell_type": "markdown",
   "metadata": {},
   "source": [
    "Python 3 \n",
    "=========\n",
    "\n",
    "Tutorial based off http://www.diveintopython3.net/index.html\n",
    "\n",
    "For help type : help(command)\n",
    "\n",
    "Notice single and multi line comments"
   ]
  },
  {
   "cell_type": "code",
   "execution_count": 3,
   "metadata": {
    "collapsed": false
   },
   "outputs": [
    {
     "name": "stdout",
     "output_type": "stream",
     "text": [
      "Help on built-in function print in module builtins:\n",
      "\n",
      "print(...)\n",
      "    print(value, ..., sep=' ', end='\\n', file=sys.stdout, flush=False)\n",
      "    \n",
      "    Prints the values to a stream, or to sys.stdout by default.\n",
      "    Optional keyword arguments:\n",
      "    file:  a file-like object (stream); defaults to the current sys.stdout.\n",
      "    sep:   string inserted between values, default a space.\n",
      "    end:   string appended after the last value, default a newline.\n",
      "    flush: whether to forcibly flush the stream.\n",
      "\n"
     ]
    }
   ],
   "source": [
    "help(print)"
   ]
  },
  {
   "cell_type": "code",
   "execution_count": null,
   "metadata": {
    "collapsed": false
   },
   "outputs": [],
   "source": [
    "\"\"\" A multi line comment \"\"\"\n",
    "#A single line comment\n",
    "print(\"Hello world\")"
   ]
  },
  {
   "cell_type": "markdown",
   "metadata": {},
   "source": [
    "Data Types\n",
    "===========\n",
    "Python figures out datatype of variables and tracks internally.\n"
   ]
  },
  {
   "cell_type": "code",
   "execution_count": null,
   "metadata": {
    "collapsed": false
   },
   "outputs": [],
   "source": [
    "#Numbers can be integers (1 and 2), floats (1.1 and 1.2), fractions (1/2 and 2/3), or even complex numbers.\n",
    "print (2 + 3)\n",
    "print (3 * 4)\n",
    "\n",
    "#Float typically store decimal point values \n",
    "print (2.5 + 4.56)\n",
    "\n",
    "#Strings are a sequence of unicode characters\n",
    "print ('a')\n",
    "print ('Star' + 'Trek')\n",
    "\n",
    "#Boolean i.e. 1 (True) or 0 (False)\n",
    "print(True + True)\n",
    "print(True * False)"
   ]
  },
  {
   "cell_type": "code",
   "execution_count": null,
   "metadata": {
    "collapsed": false
   },
   "outputs": [],
   "source": [
    "#Assigning values \n",
    "\n",
    "a = 12\n",
    "b = 6\n",
    "print (a + b)\n",
    "print (a - b)\n",
    "\n",
    "#Assign values to another variable\n",
    "c = (a * b)\n",
    "print (c) "
   ]
  },
  {
   "cell_type": "code",
   "execution_count": null,
   "metadata": {
    "collapsed": false
   },
   "outputs": [],
   "source": [
    "#Built in function type() gives type of a varaible\n",
    "print(type(1))\n",
    "print(type(\"Jane\"))\n",
    "print(type(\"1.234\"))\n",
    "print(type(1.234))\n"
   ]
  },
  {
   "cell_type": "code",
   "execution_count": null,
   "metadata": {
    "collapsed": false
   },
   "outputs": [],
   "source": [
    "#Change from one type to another\n",
    "\n",
    "print(str(23))"
   ]
  },
  {
   "cell_type": "code",
   "execution_count": null,
   "metadata": {
    "collapsed": true
   },
   "outputs": [],
   "source": [
    "# Exercise 1 : Print out the times table for 5. Bonus points for commenting your code!"
   ]
  },
  {
   "cell_type": "code",
   "execution_count": null,
   "metadata": {
    "collapsed": true
   },
   "outputs": [],
   "source": [
    "# Exercise 2 : Add two fractions 7/8 and 9/12 and print the result. "
   ]
  },
  {
   "cell_type": "code",
   "execution_count": null,
   "metadata": {
    "collapsed": true
   },
   "outputs": [],
   "source": [
    "# Advanced topics - Python packages that give you extra functions. \n",
    "\n",
    "# Try the following\n",
    "\n",
    "import math\n",
    "\n",
    "math.pi "
   ]
  }
 ],
 "metadata": {
  "kernelspec": {
   "display_name": "Python 3",
   "language": "python",
   "name": "python3"
  },
  "language_info": {
   "codemirror_mode": {
    "name": "ipython",
    "version": 3
   },
   "file_extension": ".py",
   "mimetype": "text/x-python",
   "name": "python",
   "nbconvert_exporter": "python",
   "pygments_lexer": "ipython3",
   "version": "3.5.0"
  }
 },
 "nbformat": 4,
 "nbformat_minor": 0
}
