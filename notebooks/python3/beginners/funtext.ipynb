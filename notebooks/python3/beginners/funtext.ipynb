{
 "cells": [
  {
   "cell_type": "markdown",
   "metadata": {},
   "source": [
    "#### Would you like to make some cool texts in different fonts?  "
   ]
  },
  {
   "cell_type": "markdown",
   "metadata": {},
   "source": [
    "We are installing a special \"software package\" called pyfiglet"
   ]
  },
  {
   "cell_type": "code",
   "execution_count": 2,
   "metadata": {
    "collapsed": true
   },
   "outputs": [],
   "source": [
    "!pip install -q pyfiglet"
   ]
  },
  {
   "cell_type": "markdown",
   "metadata": {},
   "source": [
    "Some other commands for initial set up "
   ]
  },
  {
   "cell_type": "code",
   "execution_count": 5,
   "metadata": {
    "collapsed": false
   },
   "outputs": [],
   "source": [
    "import sys\n",
    "from pyfiglet import figlet_format"
   ]
  },
  {
   "cell_type": "markdown",
   "metadata": {},
   "source": [
    "Rememeber we learnt print()!"
   ]
  },
  {
   "cell_type": "code",
   "execution_count": 8,
   "metadata": {
    "collapsed": false
   },
   "outputs": [
    {
     "name": "stdout",
     "output_type": "stream",
     "text": [
      ".___  ___.  __       _______.     _______. __   __       _______  __  \n",
      "|   \\/   | |  |     /       |    /       ||  | |  |     |   ____||  | \n",
      "|  \\  /  | |  |    |   (----`   |   (----`|  | |  |     |  |__   |  | \n",
      "|  |\\/|  | |  |     \\   \\        \\   \\    |  | |  |     |   __|  |  | \n",
      "|  |  |  | |  | .----)   |   .----)   |   |  | |  `----.|  |____ |__| \n",
      "|__|  |__| |__| |_______/    |_______/    |__| |_______||_______|(__) \n",
      "                                                                      \n",
      "\n"
     ]
    }
   ],
   "source": [
    "cprint(figlet_format('missile!', font='starwars'))"
   ]
  },
  {
   "cell_type": "code",
   "execution_count": 7,
   "metadata": {
    "collapsed": false
   },
   "outputs": [
    {
     "name": "stdout",
     "output_type": "stream",
     "text": [
      "Help on function cprint in module termcolor:\n",
      "\n",
      "cprint(text, color=None, on_color=None, attrs=None, **kwargs)\n",
      "    Print colorize text.\n",
      "    \n",
      "    It accepts arguments of print function.\n",
      "\n"
     ]
    }
   ],
   "source": [
    "help(cprint)\n"
   ]
  },
  {
   "cell_type": "markdown",
   "metadata": {},
   "source": [
    "Exercise1: Try printing fun texts in different fonts. [List of fonts](http://www.figlet.org/examples.html)"
   ]
  }
 ],
 "metadata": {
  "kernelspec": {
   "display_name": "Python 3",
   "language": "python",
   "name": "python3"
  },
  "language_info": {
   "codemirror_mode": {
    "name": "ipython",
    "version": 3
   },
   "file_extension": ".py",
   "mimetype": "text/x-python",
   "name": "python",
   "nbconvert_exporter": "python",
   "pygments_lexer": "ipython3",
   "version": "3.5.0"
  }
 },
 "nbformat": 4,
 "nbformat_minor": 0
}
